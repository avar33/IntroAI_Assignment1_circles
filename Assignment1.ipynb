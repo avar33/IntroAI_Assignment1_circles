{
  "nbformat": 4,
  "nbformat_minor": 0,
  "metadata": {
    "colab": {
      "provenance": [],
      "authorship_tag": "ABX9TyMHHN9GIPNUOnagLTe9cUZl",
      "include_colab_link": true
    },
    "kernelspec": {
      "name": "python3",
      "display_name": "Python 3"
    },
    "language_info": {
      "name": "python"
    }
  },
  "cells": [
    {
      "cell_type": "markdown",
      "metadata": {
        "id": "view-in-github",
        "colab_type": "text"
      },
      "source": [
        "<a href=\"https://colab.research.google.com/github/avar33/IntroAI_Assignment1_circles/blob/main/Assignment1.ipynb\" target=\"_parent\"><img src=\"https://colab.research.google.com/assets/colab-badge.svg\" alt=\"Open In Colab\"/></a>"
      ]
    },
    {
      "cell_type": "code",
      "execution_count": 6,
      "metadata": {
        "colab": {
          "base_uri": "https://localhost:8080/"
        },
        "id": "-xYWNoI6A5pA",
        "outputId": "8973c632-5617-45b3-f1df-375b2cced0ce"
      },
      "outputs": [
        {
          "output_type": "stream",
          "name": "stdout",
          "text": [
            "starting j loop\n",
            "starting j loop\n",
            "between (0.5, 0.5, 0.5) and (1.5, 1.5, 1.1) there is an overlap: True\n",
            "overlap found, no need to proceed\n",
            "an overlap was found for this circle: True\n",
            "starting j loop\n",
            "between (1.5, 1.5, 1.1) and (0.5, 0.5, 0.5) there is an overlap: True\n",
            "overlap found, no need to proceed\n",
            "an overlap was found for this circle: True\n",
            "starting j loop\n",
            "between (0.7, 0.7, 0.4) and (0.5, 0.5, 0.5) there is an overlap: True\n",
            "overlap found, no need to proceed\n",
            "an overlap was found for this circle: True\n",
            "starting j loop\n",
            "between (4, 4, 0.7) and (0.5, 0.5, 0.5) there is an overlap: False\n",
            "increasing j\n",
            "starting j loop\n",
            "between (4, 4, 0.7) and (1.5, 1.5, 1.1) there is an overlap: False\n",
            "increasing j\n",
            "starting j loop\n",
            "between (4, 4, 0.7) and (0.7, 0.7, 0.4) there is an overlap: False\n",
            "increasing j\n",
            "starting j loop\n",
            "an overlap was found for this circle: False\n",
            "negative ending\n",
            "Input: [(0.5, 0.5, 0.5), (1.5, 1.5, 1.1), (0.7, 0.7, 0.4), (4, 4, 0.7)]\n",
            "The circles inputted form a cluster: False\n"
          ]
        }
      ],
      "source": [
        "import ast\n",
        "import math\n",
        "\n",
        "# CircleCluster class encapsulates the circle list and cluster verification\n",
        "class CircleCluster:\n",
        "    def __init__(self, circle_str):\n",
        "        # holds the user input for the list of circles\n",
        "        self.circle_str = circle_str\n",
        "        # coverts string into a list of circle tuples\n",
        "        self.circles = self.parse_circles()\n",
        "\n",
        "    # parse the input string into a list of circle tuples\n",
        "    def parse_circles(self):\n",
        "        try:\n",
        "            circles = ast.literal_eval(self.circle_str)\n",
        "            # \"circles\" must be a list and it is checked for the correct format\n",
        "            # format must be a list of tuples with 3 numbers in each\n",
        "            if isinstance(circles, list) and all(\n",
        "                isinstance(item, tuple) and len(item) == 3 for item in circles\n",
        "            ):\n",
        "                return circles\n",
        "            else:\n",
        "                print(\"Invalid input format. Each coordinate must contain 3 numbers. Ex: (x1, y1, r1)\")\n",
        "                return None\n",
        "        except (ValueError, SyntaxError):\n",
        "            print(\"Invalid input format. Please enter a list in this format: [(x1, y1, r1), (x2, y2, r2), ...]\")\n",
        "            return None\n",
        "\n",
        "    # this function determines whether the circles for a cluster based on their coordinates\n",
        "    # if a cluster is present it shall return True\n",
        "    # parameters: two circles\n",
        "    @staticmethod\n",
        "    def verify_overlap(circle1, circle2):\n",
        "        x1, y1, r1 = circle1\n",
        "        x2, y2, r2 = circle2\n",
        "        distance = math.sqrt((x2 - x1)**2 + (y2 - y1)**2)\n",
        "        return distance <= r1 + r2\n",
        "\n",
        "    # check if circles form a cluster based on neighboring overlaps\n",
        "    def forms_cluster(self):\n",
        "        cluster = True\n",
        "        # the following loop checks that each circle overlaps with at least\n",
        "        # one other\n",
        "        for i in range(len(self.circles)):\n",
        "          if not self.circles:\n",
        "            return False\n",
        "\n",
        "          for j in range(len(self.circles)):\n",
        "            print (\"starting j loop\")\n",
        "            # ensure the same circles aren't being compared\n",
        "            if j != i:\n",
        "              # check overlap\n",
        "              circle1, circle2 = self.circles[i], self.circles[j]\n",
        "              cluster = self.verify_overlap(circle1, circle2)\n",
        "              # if an overlap is found, move on to the next circle\n",
        "              print (f\"between {circle1} and {circle2} there is an overlap: {cluster}\")\n",
        "              if cluster:\n",
        "                print (\"overlap found, no need to proceed\")\n",
        "                break\n",
        "              print (\"increasing j\")\n",
        "\n",
        "          # if no overlap was found for that circle then it is not a cluster\n",
        "          print (f\"an overlap was found for this circle: {cluster}\")\n",
        "          if not cluster:\n",
        "            print (\"negative ending\")\n",
        "            return False\n",
        "\n",
        "        print (\"regular ending\")\n",
        "        return cluster\n",
        "\n",
        "\n",
        "# Main execution\n",
        "circ_str = \"[(0.5, 0.5, 0.5), (1.5, 1.5, 1.1), (0.7, 0.7, 0.4), (4, 4, 0.7)]\"\n",
        "cluster_checker = CircleCluster(circ_str)\n",
        "result = cluster_checker.forms_cluster()\n",
        "print(f\"Input: {circ_str}\")\n",
        "print(f\"The circles inputted form a cluster: {result}\")\n"
      ]
    }
  ]
}